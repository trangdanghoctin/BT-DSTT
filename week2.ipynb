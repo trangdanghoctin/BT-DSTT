{
  "cells": [
    {
      "cell_type": "markdown",
      "metadata": {
        "id": "view-in-github",
        "colab_type": "text"
      },
      "source": [
        "<a href=\"https://colab.research.google.com/github/trangdanghoctin/BT-DSTT/blob/main/week2.ipynb\" target=\"_parent\"><img src=\"https://colab.research.google.com/assets/colab-badge.svg\" alt=\"Open In Colab\"/></a>"
      ]
    },
    {
      "cell_type": "markdown",
      "id": "272021c8",
      "metadata": {
        "id": "272021c8"
      },
      "source": [
        "bai1"
      ]
    },
    {
      "cell_type": "code",
      "execution_count": null,
      "id": "7da19523",
      "metadata": {
        "id": "7da19523",
        "outputId": "60099271-3f77-49fe-e10f-17b3dacf99c5"
      },
      "outputs": [
        {
          "name": "stdout",
          "output_type": "stream",
          "text": [
            "4\n"
          ]
        }
      ],
      "source": [
        "n = int(input())\n",
        "print (n*2)"
      ]
    },
    {
      "cell_type": "markdown",
      "id": "ab8a76f6-a620-4cab-9223-e25f67f2ecfb",
      "metadata": {
        "id": "ab8a76f6-a620-4cab-9223-e25f67f2ecfb"
      },
      "source": [
        "bai2"
      ]
    },
    {
      "cell_type": "code",
      "execution_count": null,
      "id": "a9cf55e3-de1a-4f60-8f4a-f71673417f34",
      "metadata": {
        "colab": {
          "base_uri": "https://localhost:8080/"
        },
        "id": "a9cf55e3-de1a-4f60-8f4a-f71673417f34",
        "outputId": "28816614-61b0-4cf9-9be5-272e2816672a"
      },
      "outputs": [
        {
          "output_type": "stream",
          "name": "stdout",
          "text": [
            "1\n",
            "2\n",
            "1.21\n"
          ]
        }
      ],
      "source": [
        "a= int(input())\n",
        "b= int(input())\n",
        "c= min(a,b)\n",
        "print (f\"{float(a*b-3.14*c**2/4):.2f}\")"
      ]
    },
    {
      "cell_type": "markdown",
      "source": [
        "b3"
      ],
      "metadata": {
        "id": "Ck__WvN3N-Om"
      },
      "id": "Ck__WvN3N-Om"
    },
    {
      "cell_type": "code",
      "execution_count": null,
      "id": "53d98b66-8ca2-47ee-a3a4-5c1c25536157",
      "metadata": {
        "colab": {
          "base_uri": "https://localhost:8080/"
        },
        "id": "53d98b66-8ca2-47ee-a3a4-5c1c25536157",
        "outputId": "33e1e0b5-5417-4144-8fde-4c95da42d66b"
      },
      "outputs": [
        {
          "output_type": "stream",
          "name": "stdout",
          "text": [
            "A\n",
            "a\n"
          ]
        }
      ],
      "source": [
        "c= input()\n",
        "if(ord(c)>=65 and ord(c)<=90):\n",
        "   print (chr(ord(c)+32))\n",
        "else:\n",
        "   print (chr(ord(c)-32))"
      ]
    },
    {
      "cell_type": "markdown",
      "source": [
        "b4"
      ],
      "metadata": {
        "id": "3ZIDkIk4OBDu"
      },
      "id": "3ZIDkIk4OBDu"
    },
    {
      "cell_type": "code",
      "source": [
        "c =input()\n",
        "if( c.isalpha()):\n",
        "  print (c,\"là kí tự alphabet\")\n",
        "else:\n",
        "  print (c,\"không là kí tự alphabet\")"
      ],
      "metadata": {
        "colab": {
          "base_uri": "https://localhost:8080/"
        },
        "id": "YLXg52VR-jeB",
        "outputId": "9a6efedb-a30b-42c1-a2d3-d07f26c95fa0"
      },
      "id": "YLXg52VR-jeB",
      "execution_count": null,
      "outputs": [
        {
          "output_type": "stream",
          "name": "stdout",
          "text": [
            "1\n",
            "1 không là kí tự alphabet\n"
          ]
        }
      ]
    },
    {
      "cell_type": "markdown",
      "source": [
        "b5"
      ],
      "metadata": {
        "id": "10vwvEVXODAD"
      },
      "id": "10vwvEVXODAD"
    },
    {
      "cell_type": "code",
      "source": [
        "c = input()\n",
        "if(c=='A'):\n",
        "  pass\n",
        "else:\n",
        "  print (chr(ord(c)+31))"
      ],
      "metadata": {
        "colab": {
          "base_uri": "https://localhost:8080/"
        },
        "id": "zJl79F5_BTeW",
        "outputId": "b2a1e134-3e64-4599-b9d8-ebb0b76c9f82"
      },
      "id": "zJl79F5_BTeW",
      "execution_count": null,
      "outputs": [
        {
          "output_type": "stream",
          "name": "stdout",
          "text": [
            "B\n",
            "a\n"
          ]
        }
      ]
    },
    {
      "cell_type": "markdown",
      "source": [
        "b6\n"
      ],
      "metadata": {
        "id": "UqAU-dQQOH3g"
      },
      "id": "UqAU-dQQOH3g"
    },
    {
      "cell_type": "code",
      "source": [
        "a= int(input())\n",
        "b= int(input())\n",
        "c= int(input())\n",
        "if( a+b>c and b+c>a and a+c>b):\n",
        "  p= float(a+b+c)/2\n",
        "  print (f\"{(p*(p-a)*(p-b)*(p-c))**(1/2):.1f}\")\n",
        "else:\n",
        "  print (\"Khong phai 3 canh cua tam giac\")"
      ],
      "metadata": {
        "colab": {
          "base_uri": "https://localhost:8080/"
        },
        "id": "5Sp0OXJYB3Gg",
        "outputId": "9b12c8a8-a0d2-470b-8a72-8b6889d667e2"
      },
      "id": "5Sp0OXJYB3Gg",
      "execution_count": null,
      "outputs": [
        {
          "output_type": "stream",
          "name": "stdout",
          "text": [
            "3\n",
            "3\n",
            "3\n",
            "3.9\n"
          ]
        }
      ]
    },
    {
      "cell_type": "markdown",
      "source": [
        "b7"
      ],
      "metadata": {
        "id": "tpz6ONO_OLJT"
      },
      "id": "tpz6ONO_OLJT"
    },
    {
      "cell_type": "code",
      "source": [
        "s= input()\n",
        "print (s[4],s[8])"
      ],
      "metadata": {
        "colab": {
          "base_uri": "https://localhost:8080/"
        },
        "id": "sMNCA84SEDfE",
        "outputId": "0dcbe375-25de-4626-e467-71f8c3f0c809"
      },
      "id": "sMNCA84SEDfE",
      "execution_count": null,
      "outputs": [
        {
          "output_type": "stream",
          "name": "stdout",
          "text": [
            "1234456789\n",
            "4 8\n"
          ]
        }
      ]
    },
    {
      "cell_type": "markdown",
      "source": [
        "b8"
      ],
      "metadata": {
        "id": "YzX4asbUOOgH"
      },
      "id": "YzX4asbUOOgH"
    },
    {
      "cell_type": "code",
      "source": [
        "print (\"Ten chu ho: \",end=\"\")\n",
        "name = input()\n",
        "print (\"Chi so thang truoc:\",end=\"\")\n",
        "truoc = int(input())\n",
        "print (\"Chi so thang sau:\",end=\"\")\n",
        "sau = int(input())\n",
        "print (\"Ho va ten:\",name)\n",
        "lst =[50,100,200,300,400]\n",
        "tong =sau-truoc\n",
        "i=0\n",
        "tong_tien=0\n",
        "l=0\n",
        "price =[1.984,2.050,2.380,2.998,3.350,3.460]\n",
        "price1=[1.984*50,2.050*50,2.380*100,2.998*100,3.350*100,3.460]\n",
        "for i in range(0,5):\n",
        "  if(tong>=lst[i]):\n",
        "    tong_tien +=price1[i]\n",
        "    l=i\n",
        "tong_tien+=(tong-lst[l])*price[l+1]\n",
        "print(\"Tien phai tra lai la:\",f\"{tong_tien*(1.08)*1000:.0f}\")\n"
      ],
      "metadata": {
        "colab": {
          "base_uri": "https://localhost:8080/"
        },
        "id": "hxP5Fb1pFYTU",
        "outputId": "a3f78cc7-d63a-4b6b-ec7b-5e8210d0a5fe"
      },
      "id": "hxP5Fb1pFYTU",
      "execution_count": null,
      "outputs": [
        {
          "output_type": "stream",
          "name": "stdout",
          "text": [
            "Ten chu ho: p\n",
            "Chi so thang truoc:2000\n",
            "Chi so thang sau:2586\n",
            "Ho va ten: p\n",
            "Tien phai tra lai la: 1855505\n"
          ]
        }
      ]
    },
    {
      "cell_type": "code",
      "source": [
        "n =int(input())\n",
        "if(n%2==0):\n",
        "  print (n,\"la so chan\")\n",
        "else:\n",
        "  print(n,\"la so le\")"
      ],
      "metadata": {
        "colab": {
          "base_uri": "https://localhost:8080/"
        },
        "id": "Um6UaIvvLXfM",
        "outputId": "f8c1b27c-3b3a-4a6b-eec7-4b2342a696f6"
      },
      "id": "Um6UaIvvLXfM",
      "execution_count": null,
      "outputs": [
        {
          "output_type": "stream",
          "name": "stdout",
          "text": [
            "2\n",
            "2 la so chan\n"
          ]
        }
      ]
    },
    {
      "cell_type": "code",
      "source": [
        "n=int(input())\n",
        "n=n%10\n",
        "if(n==5):\n",
        "  print(\"True\")\n",
        "else:\n",
        "  print(\"False\")"
      ],
      "metadata": {
        "colab": {
          "base_uri": "https://localhost:8080/"
        },
        "id": "28JDatwnPgx1",
        "outputId": "353f2753-ee41-41d7-eccc-2ed390e3c7d7"
      },
      "id": "28JDatwnPgx1",
      "execution_count": null,
      "outputs": [
        {
          "output_type": "stream",
          "name": "stdout",
          "text": [
            "15\n",
            "True\n"
          ]
        }
      ]
    },
    {
      "cell_type": "code",
      "source": [
        "n=int(input())\n",
        "if(n%15==0):\n",
        "  print(\"True\")\n",
        "else:\n",
        "  print(\"False\")"
      ],
      "metadata": {
        "colab": {
          "base_uri": "https://localhost:8080/"
        },
        "id": "RXAsa69GPyIt",
        "outputId": "c2aceee2-d219-45d0-dbce-ddf49072b86a"
      },
      "id": "RXAsa69GPyIt",
      "execution_count": null,
      "outputs": [
        {
          "output_type": "stream",
          "name": "stdout",
          "text": [
            "31\n",
            "False\n"
          ]
        }
      ]
    },
    {
      "cell_type": "code",
      "source": [
        "n = int(input())\n",
        "if(2025-n<18):\n",
        "  print (\"Khong\")\n",
        "else:\n",
        "  print (\"Co\")"
      ],
      "metadata": {
        "colab": {
          "base_uri": "https://localhost:8080/"
        },
        "id": "xR0i11s-P6_5",
        "outputId": "40ccbdc3-4b8d-49d8-a3c2-7233de7361d1"
      },
      "id": "xR0i11s-P6_5",
      "execution_count": null,
      "outputs": [
        {
          "output_type": "stream",
          "name": "stdout",
          "text": [
            "2007\n",
            "Co\n"
          ]
        }
      ]
    },
    {
      "cell_type": "code",
      "source": [
        "a =int(input())\n",
        "b =int(input())\n",
        "if(a==b):\n",
        "  print(\"2 so bang nhau\")\n",
        "else:\n",
        "  print (max(a,b))"
      ],
      "metadata": {
        "colab": {
          "base_uri": "https://localhost:8080/"
        },
        "id": "pUtACh8OQtXe",
        "outputId": "14590d34-757b-4448-ac8f-5df7fde71bc4"
      },
      "id": "pUtACh8OQtXe",
      "execution_count": null,
      "outputs": [
        {
          "output_type": "stream",
          "name": "stdout",
          "text": [
            "2\n",
            "2\n",
            "2 so bang nhau\n"
          ]
        }
      ]
    },
    {
      "cell_type": "code",
      "source": [
        "c =input()\n",
        "if(ord(c)>=48 and ord(c)<=57):\n",
        "  print (\"số\")\n",
        "elif((ord(c)>=65 and ord(c)<=90)or (ord(c)>=97 and ord(c)<=122)):\n",
        "  print (\"chữ cái\")\n",
        "else:\n",
        "  print (\"Không hợp lệ\")"
      ],
      "metadata": {
        "colab": {
          "base_uri": "https://localhost:8080/"
        },
        "id": "Xx6GgndTRIbU",
        "outputId": "5b343d90-9bf3-453e-9f84-bf80424eaf93"
      },
      "id": "Xx6GgndTRIbU",
      "execution_count": null,
      "outputs": [
        {
          "output_type": "stream",
          "name": "stdout",
          "text": [
            "/\n",
            "Không hợp lệ\n"
          ]
        }
      ]
    },
    {
      "cell_type": "code",
      "source": [
        "n= int(input())\n",
        "if(n>=8):\n",
        "  print(\"Giỏi\")\n",
        "elif (n>=6.5):\n",
        "  print(\"Khá\")\n",
        "elif (n>=5):\n",
        "  print (\"Trung bình\")\n",
        "else:\n",
        "  print (\"Yếu\")\n"
      ],
      "metadata": {
        "id": "zW7nqQJlSsA2",
        "colab": {
          "base_uri": "https://localhost:8080/"
        },
        "outputId": "2308d394-6004-4faa-85e6-c90040af36cf"
      },
      "id": "zW7nqQJlSsA2",
      "execution_count": 1,
      "outputs": [
        {
          "output_type": "stream",
          "name": "stdout",
          "text": [
            "7\n",
            "Khá\n"
          ]
        }
      ]
    },
    {
      "cell_type": "code",
      "source": [
        "n = int(input())\n",
        "if (n%400==0 or (n%4==0 and n%100!=0 )):\n",
        "  print (\"Nhuận\")\n",
        "else:\n",
        "  print (\"không nhuận\")"
      ],
      "metadata": {
        "colab": {
          "base_uri": "https://localhost:8080/"
        },
        "id": "YgUv9nOEEU3l",
        "outputId": "9c76269f-5972-4e9f-857e-c6d1de4db30c"
      },
      "id": "YgUv9nOEEU3l",
      "execution_count": 4,
      "outputs": [
        {
          "output_type": "stream",
          "name": "stdout",
          "text": [
            "2000\n",
            "Nhuận\n"
          ]
        }
      ]
    },
    {
      "cell_type": "code",
      "source": [
        "i= int(input())\n",
        "match i:\n",
        "        case 0:\n",
        "            print(\"Không\")\n",
        "        case 1:\n",
        "            print(\"Một\")\n",
        "        case 2:\n",
        "            print(\"Hai\")\n",
        "        case 3:\n",
        "            print(\"Ba\")\n",
        "        case 4:\n",
        "            print(\"Bốn\")\n",
        "        case 5:\n",
        "            print(\"Năm\")\n",
        "        case 6:\n",
        "            print(\"Sáu\")\n",
        "        case 7:\n",
        "            print(\"Bảy\")\n",
        "        case 8:\n",
        "            print(\"Tám\")\n",
        "        case 9:\n",
        "            print(\"Chín\")"
      ],
      "metadata": {
        "colab": {
          "base_uri": "https://localhost:8080/"
        },
        "id": "ipNeH_RPFKiA",
        "outputId": "080799e9-56eb-4b1f-8945-958986dc679f"
      },
      "id": "ipNeH_RPFKiA",
      "execution_count": 8,
      "outputs": [
        {
          "output_type": "stream",
          "name": "stdout",
          "text": [
            "1\n",
            "Một\n"
          ]
        }
      ]
    },
    {
      "cell_type": "code",
      "source": [
        "n= int(input())\n",
        "if(n>=4):\n",
        "  print (\"Qua môn\")\n",
        "else:\n",
        "  print (\"Học lại\")\n"
      ],
      "metadata": {
        "id": "FV7GimNLF-aW"
      },
      "id": "FV7GimNLF-aW",
      "execution_count": null,
      "outputs": []
    },
    {
      "cell_type": "code",
      "source": [
        "n= int(input())\n",
        "print (\"tuổi hiện nay:\",2025-n)\n",
        "if(2025-n>=18):\n",
        "  print (\"đủ 18 tuổi\")\n",
        "else:\n",
        "  print(\"chưa đủ 18 tuổi\")"
      ],
      "metadata": {
        "colab": {
          "base_uri": "https://localhost:8080/"
        },
        "id": "j1gojCYxGdx2",
        "outputId": "030566ac-90d7-4487-956b-f8972d4d1079"
      },
      "id": "j1gojCYxGdx2",
      "execution_count": 10,
      "outputs": [
        {
          "output_type": "stream",
          "name": "stdout",
          "text": [
            "2007\n",
            "tuổi hiện nay: 18\n",
            "đủ 18 tuổi\n"
          ]
        }
      ]
    },
    {
      "cell_type": "code",
      "source": [],
      "metadata": {
        "id": "cPXrESySGu9W"
      },
      "id": "cPXrESySGu9W",
      "execution_count": null,
      "outputs": []
    }
  ],
  "metadata": {
    "kernelspec": {
      "display_name": "Python 3 (ipykernel)",
      "language": "python",
      "name": "python3"
    },
    "language_info": {
      "codemirror_mode": {
        "name": "ipython",
        "version": 3
      },
      "file_extension": ".py",
      "mimetype": "text/x-python",
      "name": "python",
      "nbconvert_exporter": "python",
      "pygments_lexer": "ipython3",
      "version": "3.13.7"
    },
    "colab": {
      "provenance": [],
      "include_colab_link": true
    }
  },
  "nbformat": 4,
  "nbformat_minor": 5
}