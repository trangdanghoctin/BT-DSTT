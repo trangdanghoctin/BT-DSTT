{
  "nbformat": 4,
  "nbformat_minor": 0,
  "metadata": {
    "colab": {
      "provenance": [],
      "authorship_tag": "ABX9TyMmaVTCl+r2gW8CjkDCHmnE",
      "include_colab_link": true
    },
    "kernelspec": {
      "name": "python3",
      "display_name": "Python 3"
    },
    "language_info": {
      "name": "python"
    }
  },
  "cells": [
    {
      "cell_type": "markdown",
      "metadata": {
        "id": "view-in-github",
        "colab_type": "text"
      },
      "source": [
        "<a href=\"https://colab.research.google.com/github/trangdanghoctin/BT-DSTT/blob/main/week3.ipynb\" target=\"_parent\"><img src=\"https://colab.research.google.com/assets/colab-badge.svg\" alt=\"Open In Colab\"/></a>"
      ]
    },
    {
      "cell_type": "code",
      "execution_count": 7,
      "metadata": {
        "colab": {
          "base_uri": "https://localhost:8080/"
        },
        "id": "Yj9udEdcHEJO",
        "outputId": "9d4485fd-09a9-44cf-b0bb-160c50ae9e19"
      },
      "outputs": [
        {
          "output_type": "stream",
          "name": "stdout",
          "text": [
            "1234\n",
            "4321\n"
          ]
        }
      ],
      "source": [
        "s =input()\n",
        "s=s[::-1]\n",
        "print(s)"
      ]
    },
    {
      "cell_type": "code",
      "source": [
        "a= int(input())\n",
        "b= int(input())\n",
        "a=a^b\n",
        "b=(a)^b\n",
        "a= b^a\n",
        "print (a,\" \",b)\n"
      ],
      "metadata": {
        "colab": {
          "base_uri": "https://localhost:8080/"
        },
        "id": "QLiSWaDPHplO",
        "outputId": "e19de7ff-34c5-4178-a95a-921bafeb5c06"
      },
      "execution_count": 9,
      "outputs": [
        {
          "output_type": "stream",
          "name": "stdout",
          "text": [
            "3\n",
            "5\n",
            "5   3\n"
          ]
        }
      ]
    },
    {
      "cell_type": "code",
      "source": [
        "n =int(input())\n",
        "if (n>0 and n&(n-1)==0):\n",
        "  print (n, \"Là lũy thừa của 2\")\n",
        "else:\n",
        "  print (\"Không là lũy thừa của 2\")"
      ],
      "metadata": {
        "colab": {
          "base_uri": "https://localhost:8080/"
        },
        "id": "tjj6H7u_LT4Y",
        "outputId": "73345c40-6d4a-4ca2-dc7e-cb2f041e655f"
      },
      "execution_count": 11,
      "outputs": [
        {
          "output_type": "stream",
          "name": "stdout",
          "text": [
            "63\n",
            "Không là lũy thừa của 2\n"
          ]
        }
      ]
    },
    {
      "cell_type": "code",
      "source": [
        "m =int(input())\n",
        "n=int(input())\n",
        "print(int(m/n))"
      ],
      "metadata": {
        "colab": {
          "base_uri": "https://localhost:8080/"
        },
        "id": "KMzmWLYDL9wS",
        "outputId": "bc526461-80f3-466e-d6bf-077ff4358640"
      },
      "execution_count": 14,
      "outputs": [
        {
          "output_type": "stream",
          "name": "stdout",
          "text": [
            "13\n",
            "2\n",
            "6\n"
          ]
        }
      ]
    },
    {
      "cell_type": "code",
      "source": [
        "x =int(input())\n",
        "if(x%2==0):\n",
        "  print(\"Even\")\n",
        "else:\n",
        "  print(\"Odd\")"
      ],
      "metadata": {
        "id": "6SDWel78MK3A"
      },
      "execution_count": null,
      "outputs": []
    },
    {
      "cell_type": "code",
      "source": [
        "a = int(input())\n",
        "b = int(input())\n",
        "if(a<0 and b<0):\n",
        "  print (\"Yes\")\n",
        "else:\n",
        "  print (\"NO\")"
      ],
      "metadata": {
        "id": "AUvU-N6qMW1U"
      },
      "execution_count": null,
      "outputs": []
    },
    {
      "cell_type": "code",
      "source": [
        "a=input()\n",
        "b=input()\n",
        "if(len(a)>len(b)):\n",
        "  print (\"true\")\n",
        "else:\n",
        "  print(\"false\")"
      ],
      "metadata": {
        "colab": {
          "base_uri": "https://localhost:8080/"
        },
        "id": "64H_MWNQMlF6",
        "outputId": "40975946-822d-4eef-db93-99b7f5bd205c"
      },
      "execution_count": 15,
      "outputs": [
        {
          "output_type": "stream",
          "name": "stdout",
          "text": [
            "1234\n",
            "12\n",
            "true\n"
          ]
        }
      ]
    },
    {
      "cell_type": "code",
      "source": [
        "a= int(input())\n",
        "b= int(input())\n",
        "c= int(input())\n",
        "if( a+b>c and b+c>a and a+c>b):\n",
        "  print (\"Yes\")\n",
        "else:\n",
        "  print (\"No\")"
      ],
      "metadata": {
        "id": "-wskai21M2ib"
      },
      "execution_count": null,
      "outputs": []
    },
    {
      "cell_type": "code",
      "source": [
        "a= int(input())\n",
        "b= int(input())\n",
        "c= int(input())\n",
        "d= int(input())\n",
        "print (max(a,b,c,d))"
      ],
      "metadata": {
        "colab": {
          "base_uri": "https://localhost:8080/"
        },
        "id": "2ZkKwBtXNEfQ",
        "outputId": "8f91a3af-5f28-42f6-b9ad-d94b84b5f3fd"
      },
      "execution_count": 16,
      "outputs": [
        {
          "output_type": "stream",
          "name": "stdout",
          "text": [
            "1\n",
            "2\n",
            "3\n",
            "4\n",
            "4\n"
          ]
        }
      ]
    },
    {
      "cell_type": "code",
      "source": [
        "a= int(input())\n",
        "b= int(input())\n",
        "c= int(input())\n",
        "if( a+b>c and b+c>a and a+c>b):\n",
        "  if (a==b and b==c):\n",
        "    print (\"Tam giác đều\")\n",
        "  elif (a==b or b==c or c==a):\n",
        "    print(\"Tam giác cân\")\n",
        "  else:\n",
        "    print(\"Tam giác thường\")\n",
        "else:\n",
        "  print(\"Không phải tam giác\")"
      ],
      "metadata": {
        "colab": {
          "base_uri": "https://localhost:8080/"
        },
        "id": "86pa6CbHNK5Y",
        "outputId": "cc2eee0e-455d-4ee7-b460-cce320b7b6bf"
      },
      "execution_count": 18,
      "outputs": [
        {
          "output_type": "stream",
          "name": "stdout",
          "text": [
            "3\n",
            "3\n",
            "4\n",
            "Tam giác cân\n"
          ]
        }
      ]
    },
    {
      "cell_type": "code",
      "source": [
        "n = int(input())\n",
        "if (n%400==0 or (n%4==0 and n%100!=0 )):\n",
        "  print (\"Yes\")\n",
        "else:\n",
        "  print (\"No\")"
      ],
      "metadata": {
        "id": "--ZZDAaMN6f4"
      },
      "execution_count": null,
      "outputs": []
    },
    {
      "cell_type": "code",
      "source": [
        "n =int(input())\n",
        "if(n>=0 and n<=50):\n",
        "  print (n*1500)\n",
        "if(n>=51 and n<=100):\n",
        "  print (50*1500+(n-50)*2000)\n",
        "if(n>100):\n",
        "  print (50*1500+50*2000+(n-100)*3000)"
      ],
      "metadata": {
        "colab": {
          "base_uri": "https://localhost:8080/"
        },
        "id": "MAu0KCIEOAkI",
        "outputId": "87c0d239-bdab-4a7d-b222-c222c99fb5fa"
      },
      "execution_count": 23,
      "outputs": [
        {
          "output_type": "stream",
          "name": "stdout",
          "text": [
            "70\n",
            "115000\n"
          ]
        }
      ]
    },
    {
      "cell_type": "code",
      "source": [
        "a =float(input())\n",
        "b =float(input())\n",
        "if (a==0 and b!=0):\n",
        "  print (\"Vô nghiệm\")\n",
        "elif(a==0 and b==0):\n",
        "  print (\"Vô số nghiệm\")\n",
        "else:\n",
        "  print (f\"{(-b/a):.2f}\")"
      ],
      "metadata": {
        "colab": {
          "base_uri": "https://localhost:8080/"
        },
        "id": "Nr-cnXDOO0PY",
        "outputId": "ea44c23b-34ae-46ed-87e5-74e9b09a297d"
      },
      "execution_count": 30,
      "outputs": [
        {
          "output_type": "stream",
          "name": "stdout",
          "text": [
            "2.4\n",
            "1.22\n",
            "-0.51\n"
          ]
        }
      ]
    },
    {
      "cell_type": "code",
      "source": [
        "n= int(input())\n",
        "if(n>=8):\n",
        "  print(\"Giỏi\")\n",
        "elif (n>=6.5):\n",
        "  print(\"Khá\")\n",
        "elif (n>=5):\n",
        "  print (\"Trung bình\")\n",
        "else:\n",
        "  print (\"Yếu\")\n"
      ],
      "metadata": {
        "id": "g6okA3oaPzwF"
      },
      "execution_count": null,
      "outputs": []
    },
    {
      "cell_type": "code",
      "source": [
        "n =float(input())\n",
        "if(n>0):\n",
        "  c=1\n",
        "else:\n",
        "  c=-1\n",
        "if(n-(int(n))==0):\n",
        "  c=0\n",
        "b=max(int(n),int(n+1*c))\n",
        "s=min((int(n),int(n+1*c)))\n",
        "d=0\n",
        "if(abs(b-n)>abs (s-n)):\n",
        "  d=s\n",
        "else:\n",
        "  d=b\n",
        "print (b,s,d)"
      ],
      "metadata": {
        "colab": {
          "base_uri": "https://localhost:8080/"
        },
        "id": "VOUkPyO-P5XB",
        "outputId": "5ff810a9-351d-4562-e89d-c1de47a52ab4"
      },
      "execution_count": 41,
      "outputs": [
        {
          "output_type": "stream",
          "name": "stdout",
          "text": [
            "9\n",
            "9 9 9\n"
          ]
        }
      ]
    }
  ]
}