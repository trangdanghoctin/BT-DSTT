{
  "cells": [
    {
      "cell_type": "markdown",
      "metadata": {
        "id": "view-in-github",
        "colab_type": "text"
      },
      "source": [
        "<a href=\"https://colab.research.google.com/github/trangdanghoctin/BT-DSTT/blob/main/week1.ipynb\" target=\"_parent\"><img src=\"https://colab.research.google.com/assets/colab-badge.svg\" alt=\"Open In Colab\"/></a>"
      ]
    },
    {
      "cell_type": "markdown",
      "id": "876e1ee7",
      "metadata": {
        "id": "876e1ee7"
      },
      "source": [
        "## 📁 File: W2A1.py"
      ]
    },
    {
      "cell_type": "code",
      "execution_count": null,
      "id": "f21cc840",
      "metadata": {
        "id": "f21cc840",
        "outputId": "d8c5a3dd-1f2f-44f7-a60c-478388c09553"
      },
      "outputs": [
        {
          "name": "stdout",
          "output_type": "stream",
          "text": [
            "14\n"
          ]
        }
      ],
      "source": [
        "\n",
        "s = \"7\"\n",
        "n = int(s)\n",
        "print(n * 2)"
      ]
    },
    {
      "cell_type": "markdown",
      "id": "eb4241d9",
      "metadata": {
        "id": "eb4241d9"
      },
      "source": [
        "## 📁 File: W2A10.py"
      ]
    },
    {
      "cell_type": "code",
      "execution_count": null,
      "id": "957ad22b",
      "metadata": {
        "id": "957ad22b",
        "outputId": "23daf21e-6048-4fee-90b8-132debd8d9e6"
      },
      "outputs": [
        {
          "name": "stdin",
          "output_type": "stream",
          "text": [
            " trang minh hoang\n"
          ]
        },
        {
          "name": "stdout",
          "output_type": "stream",
          "text": [
            "Hi hoang,minh and trang.\n"
          ]
        }
      ],
      "source": [
        "s=input()\n",
        "a =s.split()\n",
        "a.reverse()\n",
        "print (\"Hi \"+a[0]+\",\"+a[1]+\" and \"+a[2]+\".\")\n"
      ]
    },
    {
      "cell_type": "markdown",
      "id": "bd6acc87",
      "metadata": {
        "id": "bd6acc87"
      },
      "source": [
        "## 📁 File: W2A11.py"
      ]
    },
    {
      "cell_type": "code",
      "execution_count": null,
      "id": "69f5fc9b",
      "metadata": {
        "id": "69f5fc9b"
      },
      "outputs": [],
      "source": [
        "h=int(input())\n",
        "s=int(input())\n",
        "print (h*3600+s*60)"
      ]
    },
    {
      "cell_type": "markdown",
      "id": "82163134",
      "metadata": {
        "id": "82163134"
      },
      "source": [
        "## 📁 File: W2A12.py"
      ]
    },
    {
      "cell_type": "code",
      "execution_count": null,
      "id": "20b4336e",
      "metadata": {
        "id": "20b4336e"
      },
      "outputs": [],
      "source": [
        "n=int(input())\n",
        "print (6*n)"
      ]
    },
    {
      "cell_type": "markdown",
      "id": "0fc1be25",
      "metadata": {
        "id": "0fc1be25"
      },
      "source": [
        "## 📁 File: W2A13.py"
      ]
    },
    {
      "cell_type": "code",
      "execution_count": null,
      "id": "2590426f",
      "metadata": {
        "id": "2590426f"
      },
      "outputs": [],
      "source": [
        "a= int(input())\n",
        "b=int(input())\n",
        "print ((a%10)*(b%10))%10"
      ]
    },
    {
      "cell_type": "markdown",
      "id": "a97eda3f",
      "metadata": {
        "id": "a97eda3f"
      },
      "source": [
        "## 📁 File: W2A14.py"
      ]
    },
    {
      "cell_type": "code",
      "execution_count": null,
      "id": "4cdd200b",
      "metadata": {
        "id": "4cdd200b"
      },
      "outputs": [],
      "source": [
        "a=int(input())\n",
        "b=int(input())\n",
        "a,b=b,a\n",
        "print(a,b)"
      ]
    },
    {
      "cell_type": "markdown",
      "id": "405ea95a",
      "metadata": {
        "id": "405ea95a"
      },
      "source": [
        "## 📁 File: W2A15.py"
      ]
    },
    {
      "cell_type": "code",
      "execution_count": null,
      "id": "d4dc0924",
      "metadata": {
        "id": "d4dc0924"
      },
      "outputs": [],
      "source": [
        "n= int(input())\n",
        "print (6*n(n-1)+1)"
      ]
    },
    {
      "cell_type": "markdown",
      "id": "83f1f022",
      "metadata": {
        "id": "83f1f022"
      },
      "source": [
        "## 📁 File: W2A16.py"
      ]
    },
    {
      "cell_type": "code",
      "execution_count": null,
      "id": "208f1087",
      "metadata": {
        "id": "208f1087"
      },
      "outputs": [],
      "source": [
        "print(\"Spring\\nSummer\\nAutumn\\nWinter\")"
      ]
    },
    {
      "cell_type": "markdown",
      "id": "6d9aaadf",
      "metadata": {
        "id": "6d9aaadf"
      },
      "source": [
        "## 📁 File: W2A17.py"
      ]
    },
    {
      "cell_type": "code",
      "execution_count": null,
      "id": "c0970e84",
      "metadata": {
        "id": "c0970e84"
      },
      "outputs": [],
      "source": [
        "print(\"*\")\n",
        "print(\"***\")\n",
        "print(\"*****\")"
      ]
    },
    {
      "cell_type": "markdown",
      "id": "4404aefa",
      "metadata": {
        "id": "4404aefa"
      },
      "source": [
        "## 📁 File: W2A18.py"
      ]
    },
    {
      "cell_type": "code",
      "execution_count": null,
      "id": "e9b25b93",
      "metadata": {
        "id": "e9b25b93"
      },
      "outputs": [],
      "source": [
        "print(\"### # #   ### ###\")\n",
        "print(\" #  #  #   #   #  \")\n",
        "print(\" #  #   #  #   #  \")\n",
        "print(\" #  #  #   #   #  \")\n",
        "print(\" #  # #    #   #  \")"
      ]
    },
    {
      "cell_type": "markdown",
      "id": "b572eb75",
      "metadata": {
        "id": "b572eb75"
      },
      "source": [
        "## 📁 File: W2A19.py"
      ]
    },
    {
      "cell_type": "code",
      "execution_count": null,
      "id": "bb3550c2",
      "metadata": {
        "id": "bb3550c2"
      },
      "outputs": [],
      "source": [
        "print(\"Monday\")\n",
        "print(\"Tuesday\")\n",
        "print(\"Wednesday\")\n",
        "print(\"Thursday\")\n",
        "print(\"Friday\")\n",
        "print(\"Saturday\")\n",
        "print(\"Sunday\")"
      ]
    },
    {
      "cell_type": "markdown",
      "id": "88e61197",
      "metadata": {
        "id": "88e61197"
      },
      "source": [
        "## 📁 File: W2A2.py"
      ]
    },
    {
      "cell_type": "code",
      "execution_count": null,
      "id": "aeea283b",
      "metadata": {
        "id": "aeea283b"
      },
      "outputs": [],
      "source": [
        "s=input()\n",
        "print (\"Hi,\",s)"
      ]
    },
    {
      "cell_type": "markdown",
      "id": "2b3e99a9",
      "metadata": {
        "id": "2b3e99a9"
      },
      "source": [
        "## 📁 File: W2A20.py"
      ]
    },
    {
      "cell_type": "code",
      "execution_count": null,
      "id": "f1a94ba0",
      "metadata": {
        "id": "f1a94ba0"
      },
      "outputs": [],
      "source": [
        "moth=[\"January\", \"February\", \"March\", \"April\", \"May\", \"June\", \"July\", \"August\", \"September\" , \"October\" , \"November\",\"December\" ]\n",
        "for i in moth:\n",
        "    print(i)"
      ]
    },
    {
      "cell_type": "markdown",
      "id": "630bca2e",
      "metadata": {
        "id": "630bca2e"
      },
      "source": [
        "## 📁 File: W2A21.py"
      ]
    },
    {
      "cell_type": "code",
      "execution_count": null,
      "id": "d88d91bf",
      "metadata": {
        "id": "d88d91bf"
      },
      "outputs": [],
      "source": [
        "for i in range (1,11):\n",
        "    print (\"Hello, world\")"
      ]
    },
    {
      "cell_type": "markdown",
      "id": "bae83d67",
      "metadata": {
        "id": "bae83d67"
      },
      "source": [
        "## 📁 File: W2A3.py"
      ]
    },
    {
      "cell_type": "code",
      "execution_count": null,
      "id": "ffe1febe",
      "metadata": {
        "id": "ffe1febe"
      },
      "outputs": [],
      "source": [
        "a=int(input())\n",
        "b=int(input())\n",
        "print (\"a+b =\",a+b)\n",
        "print (\"a-b =\",a-b)\n",
        "print (\"a*b =\",a*b)\n",
        "print (\"a%b =\",a%b)\n",
        "print (\"a/b =\",round(a/b,2))"
      ]
    },
    {
      "cell_type": "markdown",
      "id": "44f34bdb",
      "metadata": {
        "id": "44f34bdb"
      },
      "source": [
        "## 📁 File: W2A4.py"
      ]
    },
    {
      "cell_type": "code",
      "execution_count": null,
      "id": "8e88831e",
      "metadata": {
        "id": "8e88831e"
      },
      "outputs": [],
      "source": [
        "a=[]\n",
        "for i in range (1,7):\n",
        "    a.append(int(input()))\n",
        "print (f\"{(a[0]+a[1]+a[2]+(a[3]+a[4])*2+a[5]*3)/10:.2f}\")"
      ]
    },
    {
      "cell_type": "markdown",
      "id": "a62f06e4",
      "metadata": {
        "id": "a62f06e4"
      },
      "source": [
        "## 📁 File: W2A5.py"
      ]
    },
    {
      "cell_type": "code",
      "execution_count": null,
      "id": "c5a12b49",
      "metadata": {
        "id": "c5a12b49"
      },
      "outputs": [],
      "source": [
        "s=input()\n",
        "lst =s.split()\n",
        "print (int(lst[0]) ** int(lst[1]))"
      ]
    },
    {
      "cell_type": "markdown",
      "id": "b52f6768",
      "metadata": {
        "id": "b52f6768"
      },
      "source": [
        "## 📁 File: W2A6.py"
      ]
    },
    {
      "cell_type": "code",
      "execution_count": null,
      "id": "67e37c03",
      "metadata": {
        "id": "67e37c03"
      },
      "outputs": [],
      "source": [
        "chr=input()\n",
        "print (ord(chr.upper()))"
      ]
    },
    {
      "cell_type": "markdown",
      "id": "966acad4",
      "metadata": {
        "id": "966acad4"
      },
      "source": [
        "## 📁 File: W2A7.py"
      ]
    },
    {
      "cell_type": "code",
      "execution_count": null,
      "id": "e9866420",
      "metadata": {
        "id": "e9866420"
      },
      "outputs": [],
      "source": [
        "print (13**2*3+5)"
      ]
    },
    {
      "cell_type": "markdown",
      "id": "6478c728",
      "metadata": {
        "id": "6478c728"
      },
      "source": [
        "## 📁 File: W2A8.py"
      ]
    },
    {
      "cell_type": "code",
      "execution_count": null,
      "id": "b7ba8731",
      "metadata": {
        "id": "b7ba8731"
      },
      "outputs": [],
      "source": [
        "c=float(input())\n",
        "print (f\"{c*9/5+32:.2f}\")"
      ]
    },
    {
      "cell_type": "markdown",
      "id": "8ee2a37e",
      "metadata": {
        "id": "8ee2a37e"
      },
      "source": [
        "## 📁 File: W2A9.py"
      ]
    },
    {
      "cell_type": "code",
      "execution_count": null,
      "id": "9d497aea",
      "metadata": {
        "id": "9d497aea"
      },
      "outputs": [],
      "source": [
        "x=int(input())\n",
        "print (f\"{1.4*x+10:.2f}\")"
      ]
    }
  ],
  "metadata": {
    "kernelspec": {
      "display_name": "Python 3 (ipykernel)",
      "language": "python",
      "name": "python3"
    },
    "language_info": {
      "codemirror_mode": {
        "name": "ipython",
        "version": 3
      },
      "file_extension": ".py",
      "mimetype": "text/x-python",
      "name": "python",
      "nbconvert_exporter": "python",
      "pygments_lexer": "ipython3",
      "version": "3.13.7"
    },
    "colab": {
      "provenance": [],
      "include_colab_link": true
    }
  },
  "nbformat": 4,
  "nbformat_minor": 5
}